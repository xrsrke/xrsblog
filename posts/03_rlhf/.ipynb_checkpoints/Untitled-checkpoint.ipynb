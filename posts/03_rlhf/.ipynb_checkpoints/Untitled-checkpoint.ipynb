{
 "cells": [
  {
   "cell_type": "code",
   "execution_count": null,
   "id": "82e55ae5-824d-4e24-ae33-63da9022be7d",
   "metadata": {},
   "outputs": [],
   "source": [
    "import matplotlib.pyplot as plt\n",
    "\n",
    "import numpy as np\n",
    "import torch\n",
    "import torch.nn.functional as F"
   ]
  },
  {
   "cell_type": "markdown",
   "id": "4f79c800-adf5-4c84-824d-fc670e52ccbc",
   "metadata": {},
   "source": [
    "### Breaking down RLHF"
   ]
  },
  {
   "cell_type": "code",
   "execution_count": null,
   "id": "1d01610d-70d0-4141-8212-d84d53d09ac1",
   "metadata": {},
   "outputs": [],
   "source": []
  },
  {
   "cell_type": "markdown",
   "id": "6acf6979-80fa-4407-9009-c9049864ab91",
   "metadata": {},
   "source": [
    "output\n",
    "\n",
    "- Align with human preferences\n",
    "- Tweak the training loop of GPT"
   ]
  },
  {
   "cell_type": "markdown",
   "id": "4d79af52-e3ec-4d74-ab73-17b0dc66a311",
   "metadata": {},
   "source": [
    "- Supervise Fine-tuning (SFT): the model is used to fined tune with prompts and desired output by labelers\n",
    "- Reward Model (RM)"
   ]
  },
  {
   "cell_type": "markdown",
   "id": "bfa3b4a2-e0d4-4039-8687-4cade8341e63",
   "metadata": {},
   "source": [
    "#### Start with"
   ]
  },
  {
   "cell_type": "markdown",
   "id": "61a99b79-eec8-4490-b7cb-275be45f5ca5",
   "metadata": {},
   "source": [
    "- A pretrained language model\n",
    "- A distribution of prompts on which we want our model to produce aligned outputs\n",
    "- A team of trained human labelers"
   ]
  },
  {
   "cell_type": "markdown",
   "id": "7e371e28-8be4-4cee-a9cd-5f2b39725f4a",
   "metadata": {},
   "source": [
    "#### Steps\n",
    "- Compare output of difference language model on the dataset\n",
    "- Labeler scores each output from these model\n",
    "- Reward model learn to predicts which model output that labelers would prefer\n",
    "- Use reward model as reward function\n",
    "- Fine-tune pre-trained model to maximize the reward using PPO"
   ]
  },
  {
   "cell_type": "markdown",
   "id": "51cdfec9-bf93-410e-90dd-8d50fedb8da3",
   "metadata": {},
   "source": [
    "### Dateset"
   ]
  },
  {
   "cell_type": "markdown",
   "id": "a24a14b6-9f67-445c-b9d6-81f66f8a66a5",
   "metadata": {},
   "source": [
    "### The idea"
   ]
  },
  {
   "cell_type": "markdown",
   "id": "6bed6670-e779-4537-8686-0c9b21511d6d",
   "metadata": {},
   "source": [
    "Align with human preferences"
   ]
  },
  {
   "cell_type": "markdown",
   "id": "30bf8fb0-712e-4113-80f5-b54ddb6574bc",
   "metadata": {},
   "source": [
    "- Reward Model"
   ]
  },
  {
   "cell_type": "markdown",
   "id": "ae0a74a4-afc8-49a7-97f2-be32205e22bd",
   "metadata": {},
   "source": [
    "**Notations**"
   ]
  },
  {
   "cell_type": "markdown",
   "id": "aa4e1af0-8f6f-41e3-a9e7-ffd1e1f104ae",
   "metadata": {},
   "source": []
  },
  {
   "cell_type": "markdown",
   "id": "434b7027-68dc-43e6-91d0-c32f53f0d1b5",
   "metadata": {},
   "source": [
    "### Reward Model"
   ]
  },
  {
   "cell_type": "markdown",
   "id": "13d38043-1e1c-4e69-833e-11d78275b632",
   "metadata": {},
   "source": [
    "Outline\n",
    "- Why take the negative and log\n",
    "- Why minus\n",
    "- Why take the sigmoid"
   ]
  },
  {
   "cell_type": "markdown",
   "id": "c88852c0-93e3-434a-866c-8a3fffbca5e1",
   "metadata": {},
   "source": [
    "$\\operatorname{loss}(\\theta)=-\\frac{1}{\\left(\\begin{array}{c}\n",
    "K \\\\\n",
    "2\n",
    "\\end{array}\\right)} E_{\\left(x, y_w, y_l\\right) \\sim D}\\left[\\log \\left(\\sigma\\left(r_\\theta\\left(x, y_w\\right)-r_\\theta\\left(x, y_l\\right)\\right)\\right)\\right]$"
   ]
  },
  {
   "cell_type": "markdown",
   "id": "9090f9fd-8f4e-4aa1-9343-614177339bc7",
   "metadata": {},
   "source": [
    "$y_w$, and $y_l$: represent the output that prefered and non-prefereed by human labeller respectively"
   ]
  },
  {
   "cell_type": "markdown",
   "id": "0bd893da-553e-4cec-aded-ab4a5d1b3087",
   "metadata": {},
   "source": [
    "The goal of the reward model is make it algin with human preference as much as possible. So we want a loss score that indicate if the loss is high that mean the reward model isn't doing good its job and vice versa.\n",
    "- $r_\\theta\\left(x, y_w\\right)$ is the reward scalar of the reward model for prompt $x$ and the summary $y_w$\n",
    "- $r_\\theta\\left(x, y_l\\right)$"
   ]
  },
  {
   "cell_type": "code",
   "execution_count": null,
   "id": "65bad642-f083-4f88-b94a-6335724b006c",
   "metadata": {},
   "outputs": [],
   "source": []
  },
  {
   "cell_type": "code",
   "execution_count": null,
   "id": "8c0a81dc-fc8c-4888-b9e8-2a833cebb146",
   "metadata": {},
   "outputs": [],
   "source": []
  },
  {
   "cell_type": "code",
   "execution_count": null,
   "id": "7b10d991-060c-40f7-b340-0d08cc44f8d4",
   "metadata": {},
   "outputs": [],
   "source": []
  },
  {
   "cell_type": "code",
   "execution_count": null,
   "id": "7535abf0-c210-4534-98c0-3204ee700161",
   "metadata": {},
   "outputs": [],
   "source": []
  },
  {
   "cell_type": "markdown",
   "id": "4af07bd4-16fd-4e08-8dd2-69ff808d9b9e",
   "metadata": {},
   "source": [
    "### Sigmoid Recap"
   ]
  },
  {
   "cell_type": "code",
   "execution_count": null,
   "id": "e4e8f7ce-5c78-4d27-816b-b57c3acc9ae9",
   "metadata": {},
   "outputs": [],
   "source": [
    "xs = torch.arange(-2, 2, step=0.1)"
   ]
  },
  {
   "cell_type": "code",
   "execution_count": null,
   "id": "671955cc-feab-438d-ae62-27cb9e25ec86",
   "metadata": {},
   "outputs": [
    {
     "data": {
      "text/plain": [
       "[<matplotlib.lines.Line2D>]"
      ]
     },
     "execution_count": null,
     "metadata": {},
     "output_type": "execute_result"
    },
    {
     "data": {
      "image/png": "[encoded data removed]",
      "text/plain": [
       "<Figure size 640x480 with 1 Axes>"
      ]
     },
     "metadata": {},
     "output_type": "display_data"
    }
   ],
   "source": [
    "plt.plot(xs.numpy(), torch.sigmoid(xs).numpy())"
   ]
  },
  {
   "cell_type": "code",
   "execution_count": null,
   "id": "5e0961be-8b7f-460c-a3c5-d4969a58806a",
   "metadata": {},
   "outputs": [],
   "source": []
  },
  {
   "cell_type": "code",
   "execution_count": null,
   "id": "ff2bb031-9415-40ee-a6bf-3cb4a67302df",
   "metadata": {},
   "outputs": [],
   "source": []
  },
  {
   "cell_type": "markdown",
   "id": "0648a6e5-12f9-4878-aecf-3fe485463479",
   "metadata": {},
   "source": [
    "- Input: query and answer\n",
    "- Output: score (scalar)\n",
    "\n",
    "Models: GPT-J, GPT-Neo"
   ]
  },
  {
   "cell_type": "markdown",
   "id": "be7b3392-0590-4d1e-ad15-738d5ea940db",
   "metadata": {},
   "source": [
    "Loss: Cross-entropy. Which output labelers prefer"
   ]
  },
  {
   "cell_type": "markdown",
   "id": "1ccd42f8-6fe3-460d-b4a6-239f89173143",
   "metadata": {},
   "source": [
    "##### Dataset"
   ]
  },
  {
   "cell_type": "markdown",
   "id": "d67e58fc-e31a-48be-bb69-d59efd122521",
   "metadata": {},
   "source": [
    "present labelers with multiple responses to a prompt, and ask them to rank the responses\n",
    "\n",
    "https://huggingface.co/datasets/openai/webgpt_comparisons"
   ]
  },
  {
   "cell_type": "markdown",
   "id": "3698625b-4f22-4536-86c3-6ffe0ca0bb03",
   "metadata": {},
   "source": [
    "##### Loss function"
   ]
  },
  {
   "cell_type": "markdown",
   "id": "e4cf0ff6-1add-4681-b9e1-8d3147e4c4f8",
   "metadata": {},
   "source": [
    "10 responses. compare pair"
   ]
  },
  {
   "cell_type": "markdown",
   "id": "781c08ea-0709-41df-ac65-973d75a3a530",
   "metadata": {},
   "source": [
    "### SFT Model"
   ]
  },
  {
   "cell_type": "markdown",
   "id": "02a36659-066d-40fd-b62e-235e5283d0a4",
   "metadata": {},
   "source": [
    "1. https://huggingface.co/Dahoas/gpt2-sft-static\n",
    "2. https://huggingface.co/Dahoas/gptneo-sft-static\n",
    "3. https://huggingface.co/Dahoas/gptj-sft-static"
   ]
  },
  {
   "cell_type": "code",
   "execution_count": null,
   "id": "c63813e7-975a-4486-9afb-818143584cf9",
   "metadata": {},
   "outputs": [],
   "source": []
  },
  {
   "cell_type": "code",
   "execution_count": null,
   "id": "1c58b576-05df-40c2-908f-82ebd492e242",
   "metadata": {},
   "outputs": [],
   "source": []
  },
  {
   "cell_type": "code",
   "execution_count": null,
   "id": "ed418eda-a33f-4749-8bd3-ebcbf85670d4",
   "metadata": {},
   "outputs": [],
   "source": []
  },
  {
   "cell_type": "code",
   "execution_count": null,
   "id": "43f96d5e-e730-4de6-bcab-ca189436c9f3",
   "metadata": {},
   "outputs": [],
   "source": []
  },
  {
   "cell_type": "code",
   "execution_count": null,
   "id": "02f30723-3a16-4a7e-bf3f-73d8a62df321",
   "metadata": {},
   "outputs": [],
   "source": [
    "import torch\n",
    "import torch.nn.functional as F"
   ]
  },
  {
   "cell_type": "code",
   "execution_count": null,
   "id": "11c40976-ae74-4a05-94a7-29dd996a0b6c",
   "metadata": {},
   "outputs": [],
   "source": [
    "x1 = torch.tensor(-0.1)\n",
    "x2 = torch.tensor(0.3)\n",
    "x3 = torch.tensor(0.5)\n",
    "x4 = torch.tensor(0.8)"
   ]
  },
  {
   "cell_type": "code",
   "execution_count": null,
   "id": "897d699f-4b82-4456-8c6a-fc049c1dea6a",
   "metadata": {},
   "outputs": [],
   "source": [
    "y = torch.tensor(0.3)\n",
    "\n",
    "\n",
    "y2 = torch.tensor(0.9)"
   ]
  },
  {
   "cell_type": "code",
   "execution_count": null,
   "id": "f98432d4-4474-484e-a295-7f65716f9283",
   "metadata": {},
   "outputs": [
    {
     "data": {
      "text/plain": [
       "tensor(0.5498)"
      ]
     },
     "execution_count": null,
     "metadata": {},
     "output_type": "execute_result"
    }
   ],
   "source": [
    "F.sigmoid(x)"
   ]
  },
  {
   "cell_type": "code",
   "execution_count": null,
   "id": "d9eef6ca-3ce3-4e7d-9652-12c74cf236be",
   "metadata": {},
   "outputs": [
    {
     "data": {
      "text/plain": [
       "tensor(-0.5544)"
      ]
     },
     "execution_count": null,
     "metadata": {},
     "output_type": "execute_result"
    }
   ],
   "source": [
    "F.sigmoid(y).log()"
   ]
  },
  {
   "cell_type": "code",
   "execution_count": null,
   "id": "5b06fd68-be18-4b4a-94cc-44a3c61aee9e",
   "metadata": {},
   "outputs": [
    {
     "data": {
      "text/plain": [
       "tensor(-0.3412)"
      ]
     },
     "execution_count": null,
     "metadata": {},
     "output_type": "execute_result"
    }
   ],
   "source": [
    "F.sigmoid(y2).log()"
   ]
  },
  {
   "cell_type": "code",
   "execution_count": null,
   "id": "285757b5-241e-4f65-8661-312ccda2d80d",
   "metadata": {},
   "outputs": [],
   "source": [
    "maximize log likelihood = minimize negative log likelihood"
   ]
  },
  {
   "cell_type": "code",
   "execution_count": null,
   "id": "ffcda73a-2ed0-4ff3-bbd4-fc567355e4bf",
   "metadata": {},
   "outputs": [],
   "source": []
  },
  {
   "cell_type": "code",
   "execution_count": null,
   "id": "2fc04a1d-c05c-4cbc-b9b3-dda2047f4147",
   "metadata": {},
   "outputs": [
    {
     "data": {
      "text/plain": [
       "(tensor(0.4750), tensor(0.5744), tensor(0.6225), tensor(0.6900))"
      ]
     },
     "execution_count": null,
     "metadata": {},
     "output_type": "execute_result"
    }
   ],
   "source": [
    "F.sigmoid(x1), F.sigmoid(x2), F.sigmoid(x3), F.sigmoid(x4)"
   ]
  },
  {
   "cell_type": "code",
   "execution_count": null,
   "id": "56e1c8bd-de26-465f-a2a6-44deca16f8e9",
   "metadata": {},
   "outputs": [
    {
     "data": {
      "text/plain": [
       "tensor(0.)"
      ]
     },
     "execution_count": null,
     "metadata": {},
     "output_type": "execute_result"
    }
   ],
   "source": [
    "torch.tensor(1).log()"
   ]
  },
  {
   "cell_type": "code",
   "execution_count": null,
   "id": "4a1daf92-561f-4dd6-8360-e683df19df17",
   "metadata": {},
   "outputs": [],
   "source": []
  }
 ],
 "metadata": {
  "kernelspec": {
   "display_name": "Python 3 (ipykernel)",
   "language": "python",
   "name": "python3"
  }
 },
 "nbformat": 4,
 "nbformat_minor": 5
}
