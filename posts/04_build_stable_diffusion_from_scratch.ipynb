{
 "cells": [
  {
   "cell_type": "markdown",
   "id": "dabd9a3e-3180-4174-802a-31b16018e999",
   "metadata": {},
   "source": [
    "### Stable Diffusion"
   ]
  },
  {
   "cell_type": "markdown",
   "id": "20877f55-9c3e-4782-bc6f-4569b50cf56a",
   "metadata": {},
   "source": [
    "There're three mains components in stable diffusion\n",
    "- U-Net\n",
    "- Autoencoder\n",
    "- CLIP"
   ]
  },
  {
   "cell_type": "code",
   "execution_count": null,
   "id": "3e66a260-e2df-45ce-bd17-36aacf0cb77a",
   "metadata": {},
   "outputs": [],
   "source": []
  }
 ],
 "metadata": {
  "kernelspec": {
   "display_name": "Python 3 (ipykernel)",
   "language": "python",
   "name": "python3"
  },
  "language_info": {
   "codemirror_mode": {
    "name": "ipython",
    "version": 3
   },
   "file_extension": ".py",
   "mimetype": "text/x-python",
   "name": "python",
   "nbconvert_exporter": "python",
   "pygments_lexer": "ipython3",
   "version": "3.9.13"
  }
 },
 "nbformat": 4,
 "nbformat_minor": 5
}
