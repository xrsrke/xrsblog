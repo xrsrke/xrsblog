{
 "cells": [
  {
   "cell_type": "raw",
   "id": "8593be09-eef3-43f1-a3c7-427d44a973de",
   "metadata": {},
   "source": [
    "---\n",
    "title: 🧠 The Brain\n",
    "title-block-banner: true\n",
    "description: There are problems in deep learning that we don't know how to solve (catastrophic forgeting, adversarial attack...). It makes sense to pay some attention to how the brain solves them\n",
    "date: 2023-04-01\n",
    "toc: true\n",
    "---"
   ]
  },
  {
   "cell_type": "markdown",
   "id": "d1a247bd-0a44-432b-b928-f1fadc876d1c",
   "metadata": {},
   "source": [
    "*Lastest update: April 02, 2023*"
   ]
  },
  {
   "cell_type": "markdown",
   "id": "50f9c927-87a8-4cb0-a0e8-1f211f5555f9",
   "metadata": {},
   "source": [
    "![ ](images/the_brain.jpeg)"
   ]
  },
  {
   "cell_type": "markdown",
   "id": "29ed44f8-1baf-492c-adb2-9db0d3c173ad",
   "metadata": {},
   "source": [
    "**Face-selective neurons**"
   ]
  },
  {
   "cell_type": "markdown",
   "id": "ff73b023-3acb-48a7-9942-41f941db974a",
   "metadata": {},
   "source": [
    "### **Concept Cells**"
   ]
  },
  {
   "cell_type": "markdown",
   "id": "e4b49166-6ddf-4e4b-9083-925220f2ee59",
   "metadata": {},
   "source": [
    "> Because  that’s the way we store our memories. We tend to remember concepts and associations between them and to forget irrelevant details - so, we’ll recall seeing pictures of Jennifer Aniston at the hospital ward, for instance, but won’t remember details of the specific images."
   ]
  },
  {
   "cell_type": "markdown",
   "id": "41cfe0fc-e91d-4e73-90f4-ba9e18bed6e9",
   "metadata": {},
   "source": [
    "- Biological neurons are multimodal neurons, firing in response to a specific concept regardless of its modality: image, spoken name, written name. Concept cells may sometimes fire to more than one concept, but if they do, these concepts tend to be closely related [(Quiroga et al., 2005)](https://www.nature.com/articles/nature03687).\n",
    "\n",
    "    - Some neurons even fire for an item related to a specific person [(De Falco et al., 2016)](https://www.nature.com/articles/ncomms13408), the neuron that responded to Luke Skywalker also fired to Yoda, another Jedi from Star Wars; another neuron fired to two basketball players.  They fire to the concept itself no matter how it is presented. [(Quiroga, Fried and Koch, 2013)](https://www.scientificamerican.com/article/single-brain-cell-stores-single-concept/).\n",
    "\n",
    "    - Or image of the person regarless with their head orinatation [(Freiwald et al, 2010)](https://www.science.org/doi/10.1126/science.1194908).\n"
   ]
  },
  {
   "cell_type": "markdown",
   "id": "3e2a1836-4687-42f5-9a10-366db3b37410",
   "metadata": {},
   "source": [
    "**Hypothesis**\n",
    "- Concept cells in medial temporal lope is bring stuff into awareness for forging new links and memories related to it, such as later remembering seeing it picture [(Quiroga, Fried and Koch, 2013)](https://www.scientificamerican.com/article/single-brain-cell-stores-single-concept/)."
   ]
  },
  {
   "cell_type": "markdown",
   "id": "cb9be3ca-2cb5-49ad-86ad-80e6e25b67a5",
   "metadata": {},
   "source": [
    "### Continual Learning"
   ]
  },
  {
   "cell_type": "markdown",
   "id": "27e15756-87d4-4446-b27f-e60a87e26ab1",
   "metadata": {},
   "source": [
    "Face-selective neurons maintain the same distinctive selectivity patterns for at least 10 years [(McMahon et al., 2014)](https://www.pnas.org/doi/10.1073/pnas.1318331111)."
   ]
  },
  {
   "cell_type": "markdown",
   "id": "91220a5d-d6c0-4cbd-a8a2-caf5ffb613a3",
   "metadata": {},
   "source": [
    "**The Edge of Chaos**"
   ]
  },
  {
   "cell_type": "markdown",
   "id": "4886f730-2633-45ea-9547-ff7f2c6ceb2e",
   "metadata": {},
   "source": [
    "[(Stringer et al., 2019)](https://www.pnas.org/doi/10.1073/pnas.1318331111) found that the neural representation in the mouse's visual cortex follows critical points."
   ]
  },
  {
   "cell_type": "markdown",
   "id": "b681a85b-00f8-4215-b0c4-76af690a81c3",
   "metadata": {},
   "source": [
    "### Memory"
   ]
  },
  {
   "cell_type": "markdown",
   "id": "5b313ba2-ea71-45cf-96ff-571d4224adec",
   "metadata": {},
   "source": [
    "**Patient H.M.** damaged, critical for transfer short-term memories into long-term memories"
   ]
  },
  {
   "cell_type": "code",
   "execution_count": null,
   "id": "a55d1695-0f8d-46fc-95b1-b1b92ab5c8c0",
   "metadata": {},
   "outputs": [],
   "source": []
  }
 ],
 "metadata": {
  "kernelspec": {
   "display_name": "Python 3 (ipykernel)",
   "language": "python",
   "name": "python3"
  }
 },
 "nbformat": 4,
 "nbformat_minor": 5
}
