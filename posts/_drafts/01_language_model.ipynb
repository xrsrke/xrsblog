{
 "cells": [
  {
   "cell_type": "markdown",
   "id": "411004fc-02c3-4642-a9f2-9a3056416734",
   "metadata": {},
   "source": [
    "---\n",
    "title: Language Models\n",
    "date: 2023-02-30\n",
    "---"
   ]
  },
  {
   "cell_type": "code",
   "execution_count": null,
   "id": "fee0d41f-90b3-43ff-90e8-f3f16dec8977",
   "metadata": {},
   "outputs": [],
   "source": []
  }
 ],
 "metadata": {
  "kernelspec": {
   "display_name": "Python 3 (ipykernel)",
   "language": "python",
   "name": "python3"
  }
 },
 "nbformat": 4,
 "nbformat_minor": 5
}
