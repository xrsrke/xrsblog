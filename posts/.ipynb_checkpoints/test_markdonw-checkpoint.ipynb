{
 "cells": [
  {
   "cell_type": "raw",
   "id": "9952a7ce-1d7e-4ad1-bb57-b7ea693bb5e8",
   "metadata": {},
   "source": [
    "---\n",
    "title: Test\n",
    "description: | \n",
    "  A summary of the best practices for summarizing output of reproducible scientific documents.\n",
    "date: 2023-02-30\n",
    "---"
   ]
  },
  {
   "cell_type": "code",
   "execution_count": null,
   "id": "3b033df5-2a14-4345-bad2-73d74233eb60",
   "metadata": {},
   "outputs": [],
   "source": []
  }
 ],
 "metadata": {
  "kernelspec": {
   "display_name": "Python 3 (ipykernel)",
   "language": "python",
   "name": "python3"
  }
 },
 "nbformat": 4,
 "nbformat_minor": 5
}
