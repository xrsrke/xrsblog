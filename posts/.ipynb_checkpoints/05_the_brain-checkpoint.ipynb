{
 "cells": [
  {
   "cell_type": "code",
   "execution_count": null,
   "id": "43398daa-7943-4bc5-b1bc-c21a23ed128c",
   "metadata": {},
   "outputs": [],
   "source": []
  },
  {
   "cell_type": "markdown",
   "id": "27bf424b-bf91-44c1-8470-15858aeb159b",
   "metadata": {},
   "source": [
    "### Distribution"
   ]
  },
  {
   "cell_type": "markdown",
   "id": "9845aa95-e198-40f2-b5d9-adb745c13399",
   "metadata": {},
   "source": [
    "The brain is a distributed network [Source](https://www.nature.com/articles/s41586-019-1787-x#further-reading)"
   ]
  },
  {
   "cell_type": "markdown",
   "id": "90184b98-0d00-4c7a-947b-70e305f907e8",
   "metadata": {},
   "source": [
    "### Navigation"
   ]
  },
  {
   "cell_type": "markdown",
   "id": "6f614062-fc6f-484a-b61c-de2638b61514",
   "metadata": {},
   "source": [
    "##### Place Cell"
   ]
  },
  {
   "cell_type": "code",
   "execution_count": null,
   "id": "b68dfcda-7179-4a8b-9676-3673a69b9f81",
   "metadata": {},
   "outputs": [],
   "source": []
  },
  {
   "cell_type": "markdown",
   "id": "94e433ef-729e-49e1-a034-c2889edc83f1",
   "metadata": {},
   "source": [
    "### Vision"
   ]
  },
  {
   "cell_type": "markdown",
   "id": "e2b40848-386b-40f0-b209-00966050e8f0",
   "metadata": {},
   "source": [
    "### Continual Learning"
   ]
  },
  {
   "cell_type": "markdown",
   "id": "89b6572d-1b7a-45f8-b112-8eb93705428b",
   "metadata": {},
   "source": [
    "### Brain Development"
   ]
  },
  {
   "cell_type": "markdown",
   "id": "182010d3-4727-4451-8585-3abcdf68ba1e",
   "metadata": {},
   "source": [
    "### Neural Representation"
   ]
  },
  {
   "cell_type": "markdown",
   "id": "2c78cb3c-1c5b-4498-9dec-cdef2834c055",
   "metadata": {},
   "source": [
    "##### Concept Cells"
   ]
  },
  {
   "cell_type": "markdown",
   "id": "841172e0-21c9-4bbe-964b-bdb87644a8e2",
   "metadata": {},
   "source": [
    "- Context-independent"
   ]
  },
  {
   "cell_type": "markdown",
   "id": "f794836a-e187-4cab-87f5-fb1f497dc78d",
   "metadata": {},
   "source": [
    "- Biological neuron are conceptual neurons. They firing for a specific concept regarless of the multimodal. [[Source]](https://www.nature.com/articles/nature03687)\n",
    "    + Eg: react to both written name, spoken names of their target subjects and not to other names\n",
    "    + When a neuron fired to Jennifer Aniston, they showed a picture of her in the Eiffel Tower and found that the neuron started firing to the Eiffel Tower as well, without Aniston needing to be in the picture\n",
    "    + Thoughts\n",
    "        + Because  that’s the way we store our memories. We tend to remember concepts and associations between them and to forget irrelevant details — so, we’ll recall seeing pictures of Jennifer Aniston at the hospital ward, for instance, but won’t remember details of the specific images.\n",
    "- Some neurons are specialize for recognize faces [[Source]](https://youtu.be/Hf8NtMhPSOA)\n",
    "- Some neurons are specialize firing for a particular concept. Eg: Jennifer Aniston\n",
    "- Concept Cells respond to related items, helping to code meaningful associations for the patient, and support long-term episodic memory. [[Source]](https://www.nature.com/articles/ncomms13408)"
   ]
  },
  {
   "cell_type": "markdown",
   "id": "c6782ea9-dba7-41c3-9e20-eec55ca8b3d1",
   "metadata": {},
   "source": [
    "### Memory"
   ]
  },
  {
   "cell_type": "code",
   "execution_count": null,
   "id": "43bb25c1-7f53-4e42-984a-d59320d36768",
   "metadata": {},
   "outputs": [],
   "source": []
  }
 ],
 "metadata": {
  "kernelspec": {
   "display_name": "Python 3 (ipykernel)",
   "language": "python",
   "name": "python3"
  }
 },
 "nbformat": 4,
 "nbformat_minor": 5
}
