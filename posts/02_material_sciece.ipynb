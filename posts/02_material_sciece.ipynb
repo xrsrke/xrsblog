{
 "cells": [
  {
   "cell_type": "raw",
   "id": "7b3e7b72-d43a-461b-a4bf-106a8565707a",
   "metadata": {},
   "source": [
    "---\n",
    "title: \"Yes. You (yes you) can build your own hypothetical universe\"\n",
    "author: \"XRS\"\n",
    "date: \"09/19/002022\"\n",
    "format: \n",
    "  html:\n",
    "    code-fold: true\n",
    "jupyter: python3\n",
    "---"
   ]
  },
  {
   "cell_type": "markdown",
   "id": "e7477743-cfbd-42a9-bd22-007ffeb76bfb",
   "metadata": {},
   "source": [
    "### What is the building of the universe?"
   ]
  },
  {
   "cell_type": "markdown",
   "id": "b95476db-c89d-4972-97e0-b87f81836ed8",
   "metadata": {},
   "source": [
    "### Pauli Exclusion Principle"
   ]
  },
  {
   "cell_type": "code",
   "execution_count": null,
   "id": "ff15c247-64f7-4e64-8b44-22c3056a6c3d",
   "metadata": {},
   "outputs": [],
   "source": []
  },
  {
   "cell_type": "markdown",
   "id": "5b152548-c97e-4a9b-9d50-40dca511ce5f",
   "metadata": {},
   "source": [
    "### Let's generate a bunch of universes"
   ]
  },
  {
   "cell_type": "code",
   "execution_count": null,
   "id": "a4e179c7-7760-442b-861b-0b9d39a55273",
   "metadata": {},
   "outputs": [],
   "source": []
  }
 ],
 "metadata": {
  "kernelspec": {
   "display_name": "Python 3 (ipykernel)",
   "language": "python",
   "name": "python3"
  },
  "language_info": {
   "codemirror_mode": {
    "name": "ipython",
    "version": 3
   },
   "file_extension": ".py",
   "mimetype": "text/x-python",
   "name": "python",
   "nbconvert_exporter": "python",
   "pygments_lexer": "ipython3",
   "version": "3.9.13"
  }
 },
 "nbformat": 4,
 "nbformat_minor": 5
}
