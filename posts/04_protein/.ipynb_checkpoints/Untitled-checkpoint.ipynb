{
 "cells": [
  {
   "cell_type": "code",
   "execution_count": null,
   "id": "6b162b1e-2b79-4535-9a9a-7ed71e68eeff",
   "metadata": {},
   "outputs": [],
   "source": []
  },
  {
   "cell_type": "markdown",
   "id": "39b3047a-e5bd-4e65-84fb-e61d943c1def",
   "metadata": {},
   "source": [
    "`sp|Q6GZX4|001R_FRG3G Putative transcription factor 001R OS=Frog virus 3 (isolate Goorha) OX=654924 GN=FV3-001R PE=4 SV=1`"
   ]
  },
  {
   "cell_type": "code",
   "execution_count": null,
   "id": "3b01cc03-b323-4dad-9033-cedd942d0dee",
   "metadata": {},
   "outputs": [],
   "source": []
  }
 ],
 "metadata": {
  "kernelspec": {
   "display_name": "Python 3 (ipykernel)",
   "language": "python",
   "name": "python3"
  }
 },
 "nbformat": 4,
 "nbformat_minor": 5
}
