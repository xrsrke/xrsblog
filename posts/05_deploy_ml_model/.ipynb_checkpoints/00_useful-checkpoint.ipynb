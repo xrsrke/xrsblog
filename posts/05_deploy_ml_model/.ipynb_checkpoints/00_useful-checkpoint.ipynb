{
 "cells": [
  {
   "cell_type": "markdown",
   "id": "d5feb6bc-b80d-432d-8821-8ab4c08fe471",
   "metadata": {},
   "source": [
    "### Postgres"
   ]
  },
  {
   "cell_type": "markdown",
   "id": "0cbd4974-74ff-4b74-9cd7-9d3d9517ab1f",
   "metadata": {},
   "source": [
    "#### pgcli: Postgres CLI with autocompletion and syntax highlighting"
   ]
  },
  {
   "cell_type": "raw",
   "id": "7019ee68-bd9c-44cb-87e4-d00458ddbce6",
   "metadata": {},
   "source": [
    "pgcli -h localhost -p 5432 -u root -d ny_taxi"
   ]
  },
  {
   "cell_type": "code",
   "execution_count": null,
   "id": "edde8b26-cac3-4229-bb96-4fd1a99c3fa7",
   "metadata": {},
   "outputs": [],
   "source": []
  }
 ],
 "metadata": {
  "kernelspec": {
   "display_name": "Python 3 (ipykernel)",
   "language": "python",
   "name": "python3"
  }
 },
 "nbformat": 4,
 "nbformat_minor": 5
}
