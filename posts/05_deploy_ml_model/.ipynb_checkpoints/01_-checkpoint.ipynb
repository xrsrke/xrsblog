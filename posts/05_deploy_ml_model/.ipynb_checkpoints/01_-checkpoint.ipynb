{
 "cells": [
  {
   "cell_type": "markdown",
   "id": "91616445-2d52-405c-8902-78cc57baada8",
   "metadata": {},
   "source": [
    "### Docker Image"
   ]
  },
  {
   "cell_type": "raw",
   "id": "6d096fe7-7760-4d30-b32b-6e5abde3e803",
   "metadata": {},
   "source": [
    "docker run -it \\\n",
    "-e POSTGRES_USER=\"root\" \\\n",
    "-e POSTGRES_PASSWORD=\"root\" \\\n",
    "-e POSTGRES_DB=\"ny_taxi\" \\\n",
    "-v $(pwd)/ny_taxi:/var/lib/postgressql/data \\\n",
    "-p 5432:5432 \\\n",
    "postgres:13"
   ]
  },
  {
   "cell_type": "code",
   "execution_count": null,
   "id": "5d7f3287-c9f3-4048-bf1d-b1fc5f69b53d",
   "metadata": {},
   "outputs": [],
   "source": []
  }
 ],
 "metadata": {
  "kernelspec": {
   "display_name": "Python 3 (ipykernel)",
   "language": "python",
   "name": "python3"
  }
 },
 "nbformat": 4,
 "nbformat_minor": 5
}
