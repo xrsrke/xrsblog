{
 "cells": [
  {
   "cell_type": "code",
   "execution_count": null,
   "id": "b492a8e9-41cf-493f-9ab5-c4328d564182",
   "metadata": {},
   "outputs": [],
   "source": []
  }
 ],
 "metadata": {
  "kernelspec": {
   "display_name": "Python 3 (ipykernel)",
   "language": "python",
   "name": "python3"
  }
 },
 "nbformat": 4,
 "nbformat_minor": 5
}
