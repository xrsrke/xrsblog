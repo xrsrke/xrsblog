{
 "cells": [
  {
   "cell_type": "raw",
   "id": "27eea6ad-a9cc-4a03-9109-2aeb08937169",
   "metadata": {},
   "source": [
    "---\n",
    "title: \"Daily updates from Project Foundation\"\n",
    "author: \"xariusrke\"\n",
    "date: \"2022-11-26\"\n",
    "categories: [project foundation]\n",
    "---"
   ]
  },
  {
   "cell_type": "markdown",
   "id": "dbee8cff-fc64-49f8-a03e-840436d56f24",
   "metadata": {},
   "source": [
    "### Phase 7.5 (Miss deadline)"
   ]
  },
  {
   "cell_type": "markdown",
   "id": "6ce7c054-4c06-4dd4-88cf-fc8ed07dca3c",
   "metadata": {},
   "source": [
    "`11/15/002022`\n",
    "- reimplement positional encoding in transform from scratch\n",
    "\n",
    "`11/22/002022`\n",
    "- How conv2d works and partial implement cnn from scratch\n",
    "\n",
    "`11/24/00222`\n",
    "- Reimplement residual block from scratch\n",
    "\n",
    "`11/26/002022`\n",
    "- Implement downsample and bottleneck residual block in ResNet from scratch\n",
    "\n",
    "`11/27/002022`\n",
    "- Implement ResNet-34 from scratch"
   ]
  },
  {
   "cell_type": "code",
   "execution_count": null,
   "id": "595aadaa-3993-49ee-a67c-481e8755e81b",
   "metadata": {},
   "outputs": [],
   "source": []
  }
 ],
 "metadata": {
  "kernelspec": {
   "display_name": "Python 3 (ipykernel)",
   "language": "python",
   "name": "python3"
  }
 },
 "nbformat": 4,
 "nbformat_minor": 5
}
